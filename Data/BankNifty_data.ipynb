{
 "cells": [
  {
   "cell_type": "code",
   "execution_count": 1,
   "metadata": {},
   "outputs": [],
   "source": [
    "import pandas as pd\n",
    "import datetime\n",
    "import yfinance as yf"
   ]
  },
  {
   "cell_type": "code",
   "execution_count": 4,
   "metadata": {},
   "outputs": [],
   "source": [
    "start_date = datetime.date(2015,1,1)\n",
    "end_date = datetime.datetime.today()"
   ]
  },
  {
   "cell_type": "code",
   "execution_count": 5,
   "metadata": {},
   "outputs": [],
   "source": [
    "symbol = \"^NSEBANK\""
   ]
  },
  {
   "cell_type": "code",
   "execution_count": 10,
   "metadata": {},
   "outputs": [
    {
     "name": "stdout",
     "output_type": "stream",
     "text": [
      "[*********************100%***********************]  1 of 1 completed\n"
     ]
    }
   ],
   "source": [
    "data = yf.download(symbol, start=start_date, end=end_date)\n",
    "data = round(data,2)\n",
    "data = data[[\"Open\",\"High\",\"Low\",\"Close\",\"Volume\"]]"
   ]
  },
  {
   "cell_type": "code",
   "execution_count": 12,
   "metadata": {},
   "outputs": [
    {
     "data": {
      "text/html": [
       "<div>\n",
       "<style scoped>\n",
       "    .dataframe tbody tr th:only-of-type {\n",
       "        vertical-align: middle;\n",
       "    }\n",
       "\n",
       "    .dataframe tbody tr th {\n",
       "        vertical-align: top;\n",
       "    }\n",
       "\n",
       "    .dataframe thead th {\n",
       "        text-align: right;\n",
       "    }\n",
       "</style>\n",
       "<table border=\"1\" class=\"dataframe\">\n",
       "  <thead>\n",
       "    <tr style=\"text-align: right;\">\n",
       "      <th></th>\n",
       "      <th>Open</th>\n",
       "      <th>High</th>\n",
       "      <th>Low</th>\n",
       "      <th>Close</th>\n",
       "      <th>Volume</th>\n",
       "    </tr>\n",
       "  </thead>\n",
       "  <tbody>\n",
       "    <tr>\n",
       "      <th>count</th>\n",
       "      <td>1784.000000</td>\n",
       "      <td>1784.000000</td>\n",
       "      <td>1784.000000</td>\n",
       "      <td>1784.000000</td>\n",
       "      <td>1.784000e+03</td>\n",
       "    </tr>\n",
       "    <tr>\n",
       "      <th>mean</th>\n",
       "      <td>28632.343302</td>\n",
       "      <td>28844.281754</td>\n",
       "      <td>28374.907876</td>\n",
       "      <td>28612.745572</td>\n",
       "      <td>1.272988e+06</td>\n",
       "    </tr>\n",
       "    <tr>\n",
       "      <th>std</th>\n",
       "      <td>7323.724950</td>\n",
       "      <td>7360.552535</td>\n",
       "      <td>7285.362752</td>\n",
       "      <td>7327.806497</td>\n",
       "      <td>4.297871e+07</td>\n",
       "    </tr>\n",
       "    <tr>\n",
       "      <th>min</th>\n",
       "      <td>13844.450000</td>\n",
       "      <td>13844.450000</td>\n",
       "      <td>13519.900000</td>\n",
       "      <td>13555.700000</td>\n",
       "      <td>0.000000e+00</td>\n",
       "    </tr>\n",
       "    <tr>\n",
       "      <th>25%</th>\n",
       "      <td>22972.062500</td>\n",
       "      <td>23165.812500</td>\n",
       "      <td>22733.762500</td>\n",
       "      <td>22959.862500</td>\n",
       "      <td>0.000000e+00</td>\n",
       "    </tr>\n",
       "    <tr>\n",
       "      <th>50%</th>\n",
       "      <td>27408.600000</td>\n",
       "      <td>27553.775000</td>\n",
       "      <td>27201.950000</td>\n",
       "      <td>27404.375000</td>\n",
       "      <td>0.000000e+00</td>\n",
       "    </tr>\n",
       "    <tr>\n",
       "      <th>75%</th>\n",
       "      <td>34955.300000</td>\n",
       "      <td>35222.837500</td>\n",
       "      <td>34652.887500</td>\n",
       "      <td>34949.925000</td>\n",
       "      <td>1.698000e+05</td>\n",
       "    </tr>\n",
       "    <tr>\n",
       "      <th>max</th>\n",
       "      <td>44078.600000</td>\n",
       "      <td>44151.800000</td>\n",
       "      <td>43987.950000</td>\n",
       "      <td>44049.100000</td>\n",
       "      <td>1.798102e+09</td>\n",
       "    </tr>\n",
       "  </tbody>\n",
       "</table>\n",
       "</div>"
      ],
      "text/plain": [
       "               Open          High           Low         Close        Volume\n",
       "count   1784.000000   1784.000000   1784.000000   1784.000000  1.784000e+03\n",
       "mean   28632.343302  28844.281754  28374.907876  28612.745572  1.272988e+06\n",
       "std     7323.724950   7360.552535   7285.362752   7327.806497  4.297871e+07\n",
       "min    13844.450000  13844.450000  13519.900000  13555.700000  0.000000e+00\n",
       "25%    22972.062500  23165.812500  22733.762500  22959.862500  0.000000e+00\n",
       "50%    27408.600000  27553.775000  27201.950000  27404.375000  0.000000e+00\n",
       "75%    34955.300000  35222.837500  34652.887500  34949.925000  1.698000e+05\n",
       "max    44078.600000  44151.800000  43987.950000  44049.100000  1.798102e+09"
      ]
     },
     "execution_count": 12,
     "metadata": {},
     "output_type": "execute_result"
    }
   ],
   "source": [
    "data.describe()"
   ]
  },
  {
   "cell_type": "code",
   "execution_count": 13,
   "metadata": {},
   "outputs": [
    {
     "name": "stdout",
     "output_type": "stream",
     "text": [
      "<class 'pandas.core.frame.DataFrame'>\n",
      "DatetimeIndex: 1784 entries, 2015-01-02 to 2023-05-12\n",
      "Data columns (total 5 columns):\n",
      " #   Column  Non-Null Count  Dtype  \n",
      "---  ------  --------------  -----  \n",
      " 0   Open    1784 non-null   float64\n",
      " 1   High    1784 non-null   float64\n",
      " 2   Low     1784 non-null   float64\n",
      " 3   Close   1784 non-null   float64\n",
      " 4   Volume  1784 non-null   int64  \n",
      "dtypes: float64(4), int64(1)\n",
      "memory usage: 83.6 KB\n"
     ]
    }
   ],
   "source": [
    "data.info()"
   ]
  },
  {
   "cell_type": "code",
   "execution_count": 14,
   "metadata": {},
   "outputs": [],
   "source": [
    "data.to_csv(\"BankNifty_Data.csv\")"
   ]
  },
  {
   "cell_type": "code",
   "execution_count": null,
   "metadata": {},
   "outputs": [],
   "source": []
  }
 ],
 "metadata": {
  "kernelspec": {
   "display_name": "base",
   "language": "python",
   "name": "python3"
  },
  "language_info": {
   "codemirror_mode": {
    "name": "ipython",
    "version": 3
   },
   "file_extension": ".py",
   "mimetype": "text/x-python",
   "name": "python",
   "nbconvert_exporter": "python",
   "pygments_lexer": "ipython3",
   "version": "3.9.7"
  },
  "orig_nbformat": 4
 },
 "nbformat": 4,
 "nbformat_minor": 2
}
